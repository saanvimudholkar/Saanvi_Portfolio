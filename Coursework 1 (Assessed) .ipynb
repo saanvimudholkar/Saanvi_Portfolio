{
 "cells": [
  {
   "cell_type": "markdown",
   "metadata": {
    "deletable": false,
    "editable": false,
    "nbgrader": {
     "cell_type": "markdown",
     "checksum": "0435308149edc3ca55cf69dc15d5d66c",
     "grade": false,
     "grade_id": "cell-731ac646155705ac",
     "locked": true,
     "schema_version": 3,
     "solution": false,
     "task": false
    }
   },
   "source": [
    "# Coursework 1 #\n",
    "\n",
    "There are three questions below, each associated to one of the core modules, Analytical and Computational Foundations (ACF), Calculus (CAL) and Linear Mathematics (LMA).\n",
    "\n",
    "### Marks \n",
    "- Each of the question is worth in total 15 marks. \n",
    "- The marks are divided amongst different sub-questions and a certain number of marks is assigned to a particular test or task. \n",
    "- The number of marks asssociated with test-cell is indicated in a comment at the top of that cell.\n",
    "- The number of marks associated to a manually marked taks. (like drawing a graph) is indicated in the text immediately above this cell. \n",
    "\n",
    "#### How to Answer\n",
    "Write your code in the \"answer\" cell where it says \"# YOUR CODE HERE\"\n",
    "and remove both the line \"# YOUR CODE HERE\" and the line \"raise NotImplementedError()\"\n",
    "\n",
    "**Important**: Do not change the name or remove the existing function and write all your code \"inside\" the existing function, i.e. with at least one-tab's indentation.\n",
    "\n",
    "\n",
    "When you have written your code you should evaluate the cell and then evaluate the \"Test\" cells following it. If you don't see any errors then your code is (hopefully) correct and you can go on to the next question. \n",
    "\n",
    "If you see some errors then you have to go back and edit your code and try to fix the \"bug\". \n",
    "\n",
    "\n",
    "\n",
    "## Question 1 [ACF]\n",
    "\n",
    "The Babylonian (or Heron’s) method for computing the square root of \n",
    "$a\\in\\mathbb{R}^{+}$ is summarised by the iterative sequence $(x_{n})$, where $x_{0}$ is an arbitrary starting value (ideally, $x_{0}\\approx\\sqrt{a}$, but this is not required) and \n",
    "$$\n",
    "x_{n+1}=\\frac{1}{2}\\left(x_{n}+\\frac{a}{x_{n}}\\right).\n",
    "$$\n",
    "\n",
    "Successive values are computed for $x_{n}$ until the desired level of accuracy is reached. Hence, if we desire the maximum error to be $\\varepsilon$, we stop when $n=N$, where \n",
    "$$\n",
    "\\left|x_{N}^{2}-a\\right|<\\varepsilon.\n",
    "$$\n",
    "\n",
    "**a)**\n",
    "\n",
    "Write a Python function called ‘babylonian_square_root' that \n",
    "- Takes as input three numbers $a$, $\\varepsilon$ and $x_{0}$. \n",
    "- Raises an assertion error if $a$ or $\\varepsilon$ are not positive numbers.\n",
    "- Uses the Babylonian method to estimate $\\sqrt{a}$ with maximum error $\\varepsilon$. \n",
    "- Returns the tuple $(x_{N},N)$ where $x_{N}$ is the sought approximation.\n",
    "\n",
    "<p style=\"text-align: right\"> <b>[7 marks]</b> </p>"
   ]
  },
  {
   "cell_type": "code",
   "execution_count": 1,
   "metadata": {
    "deletable": false,
    "nbgrader": {
     "cell_type": "code",
     "checksum": "95f341af42c7ca2dcfeb3e965f60b7d8",
     "grade": false,
     "grade_id": "cell-e5434e181ad04fdc",
     "locked": false,
     "schema_version": 3,
     "solution": true,
     "task": false
    }
   },
   "outputs": [],
   "source": [
    "def babylonian_square_root(a,epsilon,x0):\n",
    "    import math\n",
    "    assert (a>0);\"Value of a cannot be negetive\"\n",
    "    assert (epsilon>0);\"Value of epsilon cannot be negetive\"\n",
    "    num=abs(x0)\n",
    "    x0=abs(x0)\n",
    "    array=[]\n",
    "    n=(-epsilon+a)\n",
    "    m=(epsilon+a)\n",
    "    i=0\n",
    "    while(i>=0):\n",
    "        xi=0.5*(x0+(a/x0))\n",
    "        if (n<x0**2<m):\n",
    "            break\n",
    "        x0=xi\n",
    "    xN=x0\n",
    "    N=i+1\n",
    "    t=(xN,N)\n",
    "    return t"
   ]
  },
  {
   "cell_type": "code",
   "execution_count": 2,
   "metadata": {
    "deletable": false,
    "editable": false,
    "nbgrader": {
     "cell_type": "code",
     "checksum": "0d28d6bea9be4dfd0679d09d71368c91",
     "grade": true,
     "grade_id": "cell-009a5fd7ee1ec601",
     "locked": true,
     "points": 5,
     "schema_version": 3,
     "solution": false,
     "task": false
    }
   },
   "outputs": [],
   "source": [
    "# [5 marks]\n",
    "from nose.tools import assert_equal,assert_almost_equal\n",
    "\n",
    "# Check that the function returns a tuple\n",
    "assert_equal(type(babylonian_square_root(2.0,1e-10,1)),tuple)\n",
    "# Check that the function returns a tuple of length 2\n",
    "assert_equal(len(babylonian_square_root(2.0,1e-10,1)),2)\n",
    "# Check that we return sqrt(2) if we start with 1\n",
    "assert_almost_equal(babylonian_square_root(2.0,1e-10,1)[0],1.4142135623730951,8)  \n",
    "# check that we return sqrt(2) also for starting with -1 \n",
    "assert_almost_equal(babylonian_square_root(2.0,1e-10,-1)[0],1.4142135623730951,8)  "
   ]
  },
  {
   "cell_type": "code",
   "execution_count": 3,
   "metadata": {
    "deletable": false,
    "editable": false,
    "nbgrader": {
     "cell_type": "code",
     "checksum": "dac1931bc61c56282ec00e2d712dc1e8",
     "grade": true,
     "grade_id": "cell-3b285572fe5745df",
     "locked": true,
     "points": 2,
     "schema_version": 3,
     "solution": false,
     "task": false
    }
   },
   "outputs": [],
   "source": [
    "# [2 marks]\n",
    "from nose.tools import assert_raises\n",
    "\n",
    "assert_raises(AssertionError,babylonian_square_root,-2,1e-10,1)"
   ]
  },
  {
   "cell_type": "markdown",
   "metadata": {
    "deletable": false,
    "editable": false,
    "nbgrader": {
     "cell_type": "markdown",
     "checksum": "ea4c1212595beda91d1772820efb5935",
     "grade": false,
     "grade_id": "cell-af86584aee47ff9c",
     "locked": true,
     "schema_version": 3,
     "solution": false,
     "task": false
    }
   },
   "source": [
    "**b)** \n",
    "Write a modified function that returns the whole list of approximations $[x_0,x_1,x_2,\\ldots,x_n]$. <p style=\"text-align: right\"> **[3 marks]** </p>"
   ]
  },
  {
   "cell_type": "code",
   "execution_count": 4,
   "metadata": {
    "deletable": false,
    "nbgrader": {
     "cell_type": "code",
     "checksum": "1a8948e37b92686f14a179ed65c6b527",
     "grade": false,
     "grade_id": "cell-86251888d5893711",
     "locked": false,
     "schema_version": 3,
     "solution": true,
     "task": false
    }
   },
   "outputs": [],
   "source": [
    "def babylonian_square_root_list(a,epsilon,x0):\n",
    "    import math\n",
    "    assert (a>0);\"Value of a cannot be negetive\"\n",
    "    assert (epsilon>0);\"Value of epsilon cannot be negetive\"\n",
    "    num=abs(x0)\n",
    "    x0=abs(x0)\n",
    "    array=[]\n",
    "    array1=[]\n",
    "    array2=[]\n",
    "    n=(-epsilon+a)\n",
    "    m=(epsilon+a)\n",
    "    i=1\n",
    "    while(i>0):\n",
    "        xi=0.5*(x0+(a/x0))\n",
    "        if (n<x0**2<m):\n",
    "            xN=x0\n",
    "            break\n",
    "        else:\n",
    "            array.append(x0)\n",
    "            x0=xi\n",
    "    array.insert(len(array),xN)\n",
    "    return array\n"
   ]
  },
  {
   "cell_type": "code",
   "execution_count": 5,
   "metadata": {
    "deletable": false,
    "editable": false,
    "nbgrader": {
     "cell_type": "code",
     "checksum": "d64773ad73c1283c41a2a516cedf5c59",
     "grade": true,
     "grade_id": "cell-f746e8c40e38b2a2",
     "locked": true,
     "points": 3,
     "schema_version": 3,
     "solution": false,
     "task": false
    }
   },
   "outputs": [],
   "source": [
    "# [3 marks]\n",
    "from nose.tools import assert_equal,assert_almost_equal\n",
    "\n",
    "# Check that the function returns a list\n",
    "assert_equal(type(babylonian_square_root_list(2.0,1e-10,1)),list)\n",
    "# Check that the first element is the initial element \n",
    "assert_almost_equal(babylonian_square_root_list(2.0,1e-10,1)[0],1.0,8)  \n",
    "# Check that the last element in the list is a good approximation\n",
    "assert_almost_equal(babylonian_square_root_list(2.0,1e-10,1)[-1],1.4142135623730951,8)  "
   ]
  },
  {
   "cell_type": "markdown",
   "metadata": {
    "deletable": false,
    "editable": false,
    "nbgrader": {
     "cell_type": "markdown",
     "checksum": "69f8ff83ea97ffe2d026567bef32fe22",
     "grade": false,
     "grade_id": "cell-6283f0cb0882e72f",
     "locked": true,
     "schema_version": 3,
     "solution": false,
     "task": false
    }
   },
   "source": [
    "**c)** Use the function from part b) to compute a list of approximations $(x_n)$ to $\\sqrt{20000}$ and use **pyplot** to plot the points $x_n$ against $n$ as a scatterplot and in the same plot also add a horizontal red line corresponding to the value given by `math.sqrt(20000)` as well as appropriate legends for the plot and labels for the $x$ and $y$ axes. Please insert the plot in the cell below the function definition.  <p style=\"text-align: right\"> **[5 marks]** </p>"
   ]
  },
  {
   "cell_type": "code",
   "execution_count": 6,
   "metadata": {
    "deletable": false,
    "nbgrader": {
     "cell_type": "code",
     "checksum": "47da5e983bbad2589fd547370aec73a1",
     "grade": false,
     "grade_id": "cell-40dc0690bead99f7",
     "locked": false,
     "schema_version": 3,
     "solution": true,
     "task": false
    }
   },
   "outputs": [],
   "source": [
    "import matplotlib.pyplot as plt\n",
    "def draw_plot(a):\n",
    "    data = babylonian_square_root_list(a,1e-10,1)\n",
    "    import math\n",
    "    array3=[]\n",
    "    for q in range(0,len(data)):\n",
    "        n=q\n",
    "        array3.append(n)\n",
    "    plt.axhline(math.sqrt(20000), color='r',label=(math.sqrt(20000)))\n",
    "    plt.xlabel('whole numbers(n)')\n",
    "    plt.ylabel('corresponding xn')\n",
    "    plt.scatter(array3,data,label='xn for corresponding values of x')\n",
    "    plt.legend()\n",
    "    plt.show()"
   ]
  },
  {
   "cell_type": "code",
   "execution_count": 7,
   "metadata": {
    "deletable": false,
    "nbgrader": {
     "cell_type": "code",
     "checksum": "47da5e983bbad2589fd547370aec73a1",
     "grade": false,
     "grade_id": "cell-40dc0690bead99f7",
     "locked": false,
     "schema_version": 3,
     "solution": true,
     "task": false
    }
   },
   "outputs": [
    {
     "data": {
      "image/png": "[encoded data removed]",
      "text/plain": [
       "<Figure size 432x288 with 1 Axes>"
      ]
     },
     "metadata": {
      "needs_background": "light"
     },
     "output_type": "display_data"
    }
   ],
   "source": [
    "draw_plot(20000)\n"
   ]
  },
  {
   "cell_type": "markdown",
   "metadata": {
    "deletable": false,
    "editable": false,
    "nbgrader": {
     "cell_type": "markdown",
     "checksum": "3f62416c96a2b049e0223ff042cf1c8d",
     "grade": false,
     "grade_id": "cell-8b5cd382f8f8f817",
     "locked": true,
     "schema_version": 3,
     "solution": false,
     "task": false
    }
   },
   "source": [
    "## Question 2 [CAL]\n",
    "The Bernoulli numbers $B_{m}$, where $m=0,1,2,\\ldots$ are a sequence of rational numbers with many applications. \n",
    "The $m$th Bernoulli number can be defined explicitly by \n",
    "$$\n",
    "B_{m}=\\sum_{k=0}^{m}\\sum_{v=0}^{k}(-1)^{v}{k \\choose v}\\frac{v^{m}}{k+1}.\n",
    "$$\n",
    "\n",
    "It is easy to see that $B_0=1$ and it can be shown that $B_{m}=0$ for any odd $m>1$ and the first few non-zero values are\n",
    "\n",
    "$$\n",
    "B_0=1,\\quad B_1=-\\frac{1}{2},\\quad B_2=\\frac{1}{6}=0.166666\\ldots, \\quad B_4=-\\frac{1}{30}=-0.033333\\cdots\n",
    "$$\n",
    "\n",
    "**a)** Write a program which uses the formula above to compute the Bernoulli number $B_{m}$ for $0\\le m\\le 12$. \n",
    "\n",
    "Note that without using higher precision this algorithm is not very good for large $m$ due to catastrophic cancellation.\n",
    "\n",
    "- Hint 1: the binomial coefficient ${k \\choose v}$ is given by `math.comb(k,v)`.\n",
    "- Hint 2: watch the indexes!\n",
    "\n",
    "<p style=\"text-align: right\"> <b>[5 marks]</b> </p>"
   ]
  },
  {
   "cell_type": "code",
   "execution_count": 8,
   "metadata": {
    "deletable": false,
    "nbgrader": {
     "cell_type": "code",
     "checksum": "dce29e63680839e99a81f486bf8d98a3",
     "grade": false,
     "grade_id": "cell-306c43c7c2ad317b",
     "locked": false,
     "schema_version": 3,
     "solution": true,
     "task": false
    }
   },
   "outputs": [],
   "source": [
    "import math\n",
    "def bernoulli(m):\n",
    "    r\"\"\"\n",
    "    A function that uses the `sum` formula to compute $B_m$\n",
    "    \"\"\"\n",
    "    sum=0\n",
    "    for k in range(0,m+1):\n",
    "        for v in range(0,k+1):\n",
    "            p=((-1)**v)*(math.comb(k,v))*((v**m)/(k+1))\n",
    "            sum=sum+p\n",
    "    return sum"
   ]
  },
  {
   "cell_type": "code",
   "execution_count": 9,
   "metadata": {
    "deletable": false,
    "editable": false,
    "nbgrader": {
     "cell_type": "code",
     "checksum": "5f167b87222245148935a698d46c8675",
     "grade": true,
     "grade_id": "cell-43034d20ee0ece10",
     "locked": true,
     "points": 5,
     "schema_version": 3,
     "solution": false,
     "task": false
    },
    "scrolled": true
   },
   "outputs": [],
   "source": [
    "# [5 marks]\n",
    "from nose.tools import assert_equal,assert_almost_equal\n",
    "\n",
    "assert_equal(bernoulli(0),1)\n",
    "assert_equal(bernoulli(1),-0.5)\n",
    "assert_almost_equal(bernoulli(2),0.166666666666666,6)\n",
    "assert_almost_equal(bernoulli(11),0.0,4)\n",
    "# Note that we only assume that the precision for B_{12} here is 2 digits.\n",
    "assert_almost_equal(bernoulli(12),-0.253113553113553,2)  "
   ]
  },
  {
   "cell_type": "markdown",
   "metadata": {
    "deletable": false,
    "editable": false,
    "nbgrader": {
     "cell_type": "markdown",
     "checksum": "849f4e138135ba1c4e8af55f10dc069b",
     "grade": false,
     "grade_id": "cell-b5176200e8e2a114",
     "locked": true,
     "schema_version": 3,
     "solution": false,
     "task": false
    }
   },
   "source": [
    "**b)**\n",
    "The first n terms of the Maclaurin series of tan x are given by \n",
    "\n",
    "$$\n",
    "p_n(x) = \\sum_{k=1}^{n} \\frac{B_{2k}}{(2k)!}(−4)^k(1 − 4^k)x^{2k−1}\n",
    "$$\n",
    "\n",
    "Write a function to calculate $p_n(x)$ that works for at least $n=1,2,3$. <p style=\"text-align: right\"> **[5 marks]** </p>"
   ]
  },
  {
   "cell_type": "code",
   "execution_count": 10,
   "metadata": {
    "deletable": false,
    "nbgrader": {
     "cell_type": "code",
     "checksum": "cb19d73c8e00395b1d84f36aa061446f",
     "grade": false,
     "grade_id": "cell-eb789979cc9ddd2c",
     "locked": false,
     "schema_version": 3,
     "solution": true,
     "task": false
    }
   },
   "outputs": [],
   "source": [
    "import math\n",
    "def pn(n,x):\n",
    "    r\"\"\"\n",
    "    Function that computes the $n$-th McLaurin polynomials for $\\tan$ at the point $x$. \n",
    "    \"\"\"\n",
    "    sum1=0\n",
    "    for k in range(1,n+1):\n",
    "        m=2*k\n",
    "        g=bernoulli(2*k)\n",
    "        f=(g/math.factorial(2*k))*((-4)**k)*(1-(4**k))*(x**(2*k-1))\n",
    "        sum1=sum1+f\n",
    "    return sum1\n",
    "def bernoulli(m):\n",
    "    sum=0\n",
    "    for k in range(0,m+1):\n",
    "        for v in range(0,k+1):\n",
    "            p=((-1)**v)*(math.comb(k,v))*((v**m)/(k+1))\n",
    "            sum=sum+p\n",
    "    return sum"
   ]
  },
  {
   "cell_type": "code",
   "execution_count": 11,
   "metadata": {
    "deletable": false,
    "editable": false,
    "nbgrader": {
     "cell_type": "code",
     "checksum": "8967598a7bc568c0de03dca0916fd499",
     "grade": true,
     "grade_id": "cell-edd2e8efc74e8fe0",
     "locked": true,
     "points": 5,
     "schema_version": 3,
     "solution": false,
     "task": false
    }
   },
   "outputs": [],
   "source": [
    "# [5 marks]\n",
    "from nose.tools import assert_equal,assert_almost_equal\n",
    "\n",
    "assert_almost_equal(pn(1,0.5),0.5,8)\n",
    "assert_almost_equal(pn(2,0.5),0.54166666666666,8)\n",
    "assert_almost_equal(pn(3,0.5),0.54583333333333,8)"
   ]
  },
  {
   "cell_type": "markdown",
   "metadata": {
    "deletable": false,
    "editable": false,
    "nbgrader": {
     "cell_type": "markdown",
     "checksum": "193bbc1c69328b31fb4533111402a408",
     "grade": false,
     "grade_id": "cell-48f15e83c2929071",
     "locked": true,
     "schema_version": 3,
     "solution": false,
     "task": false
    }
   },
   "source": [
    "**c)** \n",
    "Plot the graphs of $\\tan(x)$, $p_1(x)$, $p_2(x)$ and $p_3(x)$ in the range \n",
    "$-\\frac{\\pi}{3}\\le x\\le \\frac{\\pi}{3}$\n",
    "in the same figure. The figure should have a legend that explains what each of the graphs represent as well as labels for the $x$ and $y$ axes. Please insert the plot in the cell below the function definition. <p style=\"text-align: right\"> **[5 marks]** </p>"
   ]
  },
  {
   "cell_type": "code",
   "execution_count": 12,
   "metadata": {
    "deletable": false,
    "nbgrader": {
     "cell_type": "code",
     "checksum": "729ef603cbae36a9e11edc5720f8ce51",
     "grade": false,
     "grade_id": "cell-45f4e9915776fdc5",
     "locked": false,
     "schema_version": 3,
     "solution": true,
     "task": false
    }
   },
   "outputs": [],
   "source": [
    "import matplotlib.pyplot\n",
    "def draw_pn_plot():\n",
    "    r\"\"\"\n",
    "    Function that plots the graphs of \\tan, p_1, p_2 and p_3\n",
    "    \"\"\"\n",
    "    import math\n",
    "    import numpy as np\n",
    "    y1=[]\n",
    "    y2=[]\n",
    "    y3=[]\n",
    "    x=np.arange(-(np.pi/3),(np.pi/3)+0.1,0.1)\n",
    "    for i in range(0,len(x)):\n",
    "        j=pn(1,x[i])\n",
    "        y1.append(j)\n",
    "    for i in range(0,len(x)):\n",
    "        j=pn(2,x[i])\n",
    "        y2.append(j)\n",
    "    for i in range(0,len(x)):\n",
    "        j=pn(3,x[i])\n",
    "        y3.append(j)\n",
    "    plt.xlabel('Values of x')\n",
    "    plt.ylabel('Corresponding value of tanx')\n",
    "    plt.plot(x,y1,label='p1(x)')\n",
    "    plt.plot(x,y2,label='p2(x)')\n",
    "    plt.plot(x,y3,label='p3(x)')\n",
    "    plt.legend(loc=0)\n",
    "    plt.show()"
   ]
  },
  {
   "cell_type": "code",
   "execution_count": 13,
   "metadata": {
    "deletable": false,
    "nbgrader": {
     "cell_type": "code",
     "checksum": "2e8fd9c47c7267457e46de090fda9c03",
     "grade": true,
     "grade_id": "cell-8414f0d6dafc21ae",
     "locked": false,
     "points": 5,
     "schema_version": 3,
     "solution": true,
     "task": false
    }
   },
   "outputs": [
    {
     "data": {
      "image/png": "[encoded data removed]",
      "text/plain": [
       "<Figure size 432x288 with 1 Axes>"
      ]
     },
     "metadata": {
      "needs_background": "light"
     },
     "output_type": "display_data"
    }
   ],
   "source": [
    "draw_pn_plot()"
   ]
  },
  {
   "cell_type": "markdown",
   "metadata": {
    "deletable": false,
    "editable": false,
    "nbgrader": {
     "cell_type": "markdown",
     "checksum": "84bca9303690d8341c282427eb35600e",
     "grade": false,
     "grade_id": "cell-ffd1b8215b030465",
     "locked": true,
     "schema_version": 3,
     "solution": false,
     "task": false
    }
   },
   "source": [
    "## Question 3 [LMA]\n",
    "\n",
    "For this question we will deal with geometry of the plane and we will use tuples to denote points and vectors. \n",
    "More precisely, if $\\bf{v}$ is a vector or point in the plane we represent it by the tuple of coordinates $\\mathbf{v}=(x,y)$. A similar representation can of course be used for vectors in arbitrary dimensions. \n",
    "\n",
    "We know that a straight line $L$ in the plane is uniquely determined by either of the following:\n",
    "\n",
    "- Two different points $P$ and $Q$ that lie on the line. \n",
    "- A point $P$ on the line together with a direction vector $\\bf{v}$\n",
    "\n",
    "and we will make use of both of these definitions. \n",
    "\n",
    "\n",
    "**a)** Write a function that computes the scalar product of two vectors of arbitrary but equal length.  \n",
    "           The function should Raise an assertion error if the input are not tuples of equal length containing integers or floats. <p style=\"text-align: right\"> **[5 marks]** </p>"
   ]
  },
  {
   "cell_type": "code",
   "execution_count": 14,
   "metadata": {
    "deletable": false,
    "nbgrader": {
     "cell_type": "code",
     "checksum": "6fbabd9277962546e83f784d77700b2b",
     "grade": false,
     "grade_id": "cell-928b75d38d6fe5f1",
     "locked": false,
     "schema_version": 3,
     "solution": true,
     "task": false
    }
   },
   "outputs": [],
   "source": [
    "def scalar_product(v1,v2):\n",
    "    r\"\"\"\n",
    "    Calculate the scalar (dot) product between two vectors, v1 and v2, of arbitrary length.\n",
    "    \"\"\" \n",
    "    assert type(v1)==tuple;\"v1 must be a tuple\"\n",
    "    assert type(v2)==tuple;\"v2 must be a tuple\"\n",
    "    assert len(v1)==len(v2);\"The lenght of the two vectors must be equal\"\n",
    "    for j in range(0,len(v1)):\n",
    "        assert isinstance(v1[j],(int,float));\"The values in the tuples is not integer or float\"\n",
    "        assert isinstance(v2[j],(int,float));\"The values in the tuples is not integer or float\"\n",
    "    \n",
    "    sum=0\n",
    "    for i in range(0,len(v1)):\n",
    "        p=v1[i]*v2[i]\n",
    "        sum=sum+p\n",
    "    return(sum)"
   ]
  },
  {
   "cell_type": "code",
   "execution_count": 15,
   "metadata": {
    "deletable": false,
    "editable": false,
    "nbgrader": {
     "cell_type": "code",
     "checksum": "7dd64bb74b5905cb734f0d40aa6d50f4",
     "grade": true,
     "grade_id": "cell-ce688c52a91885f5",
     "locked": true,
     "points": 3,
     "schema_version": 3,
     "solution": false,
     "task": false
    }
   },
   "outputs": [],
   "source": [
    "# [3 marks]\n",
    "# Check that correct output is returned\n",
    "from nose.tools import assert_equal\n",
    "assert_equal(scalar_product((1,2,0),(-2,1,-1)),0)\n",
    "assert_equal(scalar_product((1,2,1),(-2,1,-1)),-1)\n",
    "assert_equal(scalar_product((1,2,1),(0,0,1)),1)"
   ]
  },
  {
   "cell_type": "code",
   "execution_count": 16,
   "metadata": {
    "deletable": false,
    "editable": false,
    "nbgrader": {
     "cell_type": "code",
     "checksum": "c5728ea7269e252606eb7a8a722d8277",
     "grade": true,
     "grade_id": "cell-294594a5f5da639e",
     "locked": true,
     "points": 2,
     "schema_version": 3,
     "solution": false,
     "task": false
    }
   },
   "outputs": [],
   "source": [
    "# [2 marks]\n",
    "# Check that incorrect input is handled by raising error\n",
    "from nose.tools import assert_raises\n",
    "\n",
    "assert_raises(AssertionError,scalar_product,1,2) # not tuples as inout\n",
    "assert_raises(AssertionError,scalar_product,(1,1,2),(1,2)) # tuples of different lengths\n",
    "assert_raises(AssertionError,scalar_product,(1,2),(\"1\",2)) # input are not all floats or ints"
   ]
  },
  {
   "cell_type": "markdown",
   "metadata": {
    "deletable": false,
    "editable": false,
    "nbgrader": {
     "cell_type": "markdown",
     "checksum": "bdb216eb0484894c245ef6b3bfbf6287",
     "grade": false,
     "grade_id": "cell-cbab3fd71e7a3728",
     "locked": true,
     "schema_version": 3,
     "solution": false,
     "task": false
    }
   },
   "source": [
    "**b)** Write a program that takes as input two points $P$ and $Q$ in the plane and returns a vector that is perpendicular to the line through $P$ and $Q$ and has length equal to 1. <p style=\"text-align: right\"> **[5 marks]** </p>"
   ]
  },
  {
   "cell_type": "code",
   "execution_count": 17,
   "metadata": {
    "deletable": false,
    "nbgrader": {
     "cell_type": "code",
     "checksum": "d8d6ea46552e7608a2b64e0ccbf436ff",
     "grade": false,
     "grade_id": "cell-4d0f9c5c5f7a0541",
     "locked": false,
     "schema_version": 3,
     "solution": true,
     "task": false
    }
   },
   "outputs": [],
   "source": [
    "def vector_perpendicular(P,Q):\n",
    "    \"\"\"\n",
    "    Find a vector that is perpendicular to the line between two points P and Q in the plane.  \n",
    "    \"\"\"\n",
    "    v=[]\n",
    "    array=[]\n",
    "    for i in range(0,len(P)):\n",
    "        m=Q[i]-P[i]\n",
    "        v.append(m)\n",
    "    if v[1]==0:\n",
    "        b=v[0]**2/(v[0]**2+v[1]**2)\n",
    "        a=(-b*v[1])/v[0]\n",
    "    else:\n",
    "        a=v[1]**2/(v[0]**2+v[1]**2)\n",
    "        b=(-a*v[0])/v[1]\n",
    "    if a==0 or b==0:\n",
    "        a=abs(a)\n",
    "        b=abs(b)\n",
    "    \n",
    "    t=(a,b)\n",
    "    return t"
   ]
  },
  {
   "cell_type": "code",
   "execution_count": 18,
   "metadata": {
    "deletable": false,
    "editable": false,
    "nbgrader": {
     "cell_type": "code",
     "checksum": "b3e7b40f8b245ec8c37861bc35ea4f4a",
     "grade": true,
     "grade_id": "cell-d8bd699fba244978",
     "locked": true,
     "points": 5,
     "schema_version": 3,
     "solution": false,
     "task": false
    }
   },
   "outputs": [],
   "source": [
    "# [5 marks]\n",
    "# Test that checks the function produces a vector that is orthogonal to the line.\n",
    "from nose.tools import assert_equal,assert_almost_equal\n",
    "def are_orthogonal(v,w):\n",
    "    \"\"\"\n",
    "    Simple check to see if the two vectors v and w are orthogonal up to precision 1e-10.\n",
    "    \"\"\"\n",
    "    return abs(v[0]*w[0]+v[1]*w[1])<1e-10\n",
    "\n",
    "assert_equal( are_orthogonal(vector_perpendicular((0,1),(1,1)),(1,0)),True) \n",
    "assert_equal( are_orthogonal(vector_perpendicular((1,2),(1,3)),(0,1)),True)"
   ]
  },
  {
   "cell_type": "markdown",
   "metadata": {
    "deletable": false,
    "editable": false,
    "nbgrader": {
     "cell_type": "markdown",
     "checksum": "dd577694cfb7768f081403a8abcabcb8",
     "grade": false,
     "grade_id": "cell-f260d5f22e10e3a5",
     "locked": true,
     "schema_version": 3,
     "solution": false,
     "task": false
    }
   },
   "source": [
    "**c)** \n",
    "Write a function that computes the point of intersection between two lines in the plane given in the format $(P,\\mathbf{v})$ where $P$ is a point and $\\mathbf{v}$ a vector (both given by tuples of length 2). If the lines are parallell then the function should raise an AssertionError. \n",
    "\n",
    "Hint: If we are given the lines in parameter format\n",
    "$$\n",
    "L_1: s\\mapsto  P_1 + s\\mathbf{v}_1 \\quad L_2: t\\mapsto P_2 + t\\mathbf{v}_2\n",
    "$$\n",
    "\n",
    "then we need to solve the linear system of equations $L_1(s)=L_2(t)$ for $s$ and $t$.\n",
    "If $P_i=(a_i,c_i)$ and $\\mathbf{v}_i = (b_i,d_i)$ then the system of equations take the form:\n",
    "\n",
    "$$\n",
    "   a_1 + b_1 s = a_2 + b_2 t\\\\\n",
    "   c_1 + d_1 s = c_2 + d_2 t\n",
    "$$\n",
    "\n",
    "and the aim is to find $s$ and $t$ in terms of the other coefficients. \n",
    "You also need to find out how you can tell from the coefficients if the two lines are parallel or not. <p style=\"text-align: right\"> **[5 marks]** </p>"
   ]
  },
  {
   "cell_type": "code",
   "execution_count": 19,
   "metadata": {
    "deletable": false,
    "nbgrader": {
     "cell_type": "code",
     "checksum": "1e0d6e6572845a5da65d15c4c9549ec6",
     "grade": false,
     "grade_id": "cell-447639baabe020c7",
     "locked": false,
     "schema_version": 3,
     "solution": true,
     "task": false
    }
   },
   "outputs": [],
   "source": [
    "def intersection_lines(L1,L2):\n",
    "    \"\"\"\n",
    "    Find the intersection point of the two lines L1 and L2 given by two tuples L1=(P1,v1) and L2=(P2,v2) \n",
    "    where the points P1, P2 and the vectors v1 and v2 are all represented by tuples of length 2. \n",
    "    \n",
    "    If the vectors v1 and v2 are parallell then we raise an assertion error. \n",
    "    \"\"\"\n",
    "    p1=L1[0]\n",
    "    p2=L2[0]\n",
    "    v1=L1[1]\n",
    "    v2=L2[1]\n",
    "    assert (v1[0]*v2[0]+v1[1]*v2[1]!=(math.sqrt(v1[0]**2+v1[1]**2))*(math.sqrt(v2[0]**2+v2[1]**2)));\"The given lines L1 and L2 are parallel\"\n",
    "    t= ((v1[0]*(p1[1]-p2[1]))+(v1[1]*(p2[0]-p1[0])))/((v1[0]*v2[1])-(v2[0]*v1[1]))\n",
    "    s=((p2[0]-p1[0])+(v2[0]*t))/v1[0]\n",
    "    x=p1[0]+v1[0]*s\n",
    "    y=p1[1]+v1[1]*s\n",
    "    Q1=[x,y]\n",
    "    return Q1"
   ]
  },
  {
   "cell_type": "code",
   "execution_count": 20,
   "metadata": {
    "deletable": false,
    "editable": false,
    "nbgrader": {
     "cell_type": "code",
     "checksum": "7378150c6141fb22c914a8362b80ad77",
     "grade": true,
     "grade_id": "cell-8bfb239148e0fa59",
     "locked": true,
     "points": 3,
     "schema_version": 3,
     "solution": false,
     "task": false
    }
   },
   "outputs": [],
   "source": [
    "# [3 marks]\n",
    "from nose.tools import assert_equal\n",
    "assert_equal(intersection_lines(((1,1),(1,1)),((1,1),(0,1))),[1.0,1.0])\n",
    "assert_equal(intersection_lines(((1,-2),(1,1)),((1,1),(0,1))),[1.0,-2.0])"
   ]
  },
  {
   "cell_type": "code",
   "execution_count": 21,
   "metadata": {
    "deletable": false,
    "editable": false,
    "nbgrader": {
     "cell_type": "code",
     "checksum": "552e8f99bcbd4e102eff54e8baa06b72",
     "grade": true,
     "grade_id": "cell-172e2dad1bf9b89e",
     "locked": true,
     "points": 2,
     "schema_version": 3,
     "solution": false,
     "task": false
    }
   },
   "outputs": [],
   "source": [
    "# [2 marks]\n",
    "from nose.tools import assert_raises\n",
    "assert_raises(AssertionError,intersection_lines,((1,0),(0,1)),((1,1),(0,1)))\n",
    "assert_raises(AssertionError,intersection_lines,((1,0),(1,0)),((1,1),(2,0)))"
   ]
  },
  {
   "cell_type": "code",
   "execution_count": null,
   "metadata": {},
   "outputs": [],
   "source": []
  }
 ],
 "metadata": {
  "kernelspec": {
   "display_name": "Python 3",
   "language": "python",
   "name": "python3"
  },
  "language_info": {
   "codemirror_mode": {
    "name": "ipython",
    "version": 3
   },
   "file_extension": ".py",
   "mimetype": "text/x-python",
   "name": "python",
   "nbconvert_exporter": "python",
   "pygments_lexer": "ipython3",
   "version": "3.8.5"
  }
 },
 "nbformat": 4,
 "nbformat_minor": 4
}
