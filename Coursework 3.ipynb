{
 "cells": [
  {
   "cell_type": "markdown",
   "metadata": {},
   "source": [
    "# Name:Saanvi Mudholkar\n",
    "\n",
    "# Student ID:20298508"
   ]
  },
  {
   "cell_type": "markdown",
   "metadata": {
    "deletable": false,
    "editable": false,
    "nbgrader": {
     "cell_type": "markdown",
     "checksum": "7bdd28066d1e9552f3930d7adeb4d333",
     "grade": false,
     "grade_id": "cell-93e294c23a20ade8",
     "locked": true,
     "schema_version": 3,
     "solution": false,
     "task": false
    }
   },
   "source": [
    "# Coursework 3 #\n",
    "\n",
    "There are three questions below, each associated to one of the core modules, Analytical and Computational Foundations (ACF), Calculus (CAL) and Linear Mathematics (LMA).\n",
    "\n",
    "### Marks \n",
    "- Each of the questions is worth in total 20 marks. \n",
    "- The marks are divided amongst different sub-questions and a certain number of marks is assigned to a particular test or task. \n",
    "- The number of marks asssociated with an automated test-cell is indicated in a comment at the top of that cell. \n",
    "\n",
    "#### How to Answer\n",
    "Write your code in the \"answer\" cell where it says \"# YOUR CODE HERE\"\n",
    "and remove both the line \"# YOUR CODE HERE\" and the line \"raise NotImplementedError()\"\n",
    "\n",
    "**Important**: Do not change the name or remove the existing function, and write all your code \"inside\" the existing function, i.e. with at least one-tab's indentation.\n",
    "\n",
    "When you have written your code you should evaluate the cell and then evaluate the \"Test\" cells following it. If you don't see any errors then your code is (hopefully) correct and you can go on to the next question. \n",
    "\n",
    "If you see some errors then you have to go back and edit your code and try to fix the \"bug\". \n",
    "\n",
    "For all questions you are allowed to use any built-in functions in NumPy, Matplotlib, SymPy, as well as the standard libraries like 'math', unless otherwise specified. \n",
    "\n",
    "All plots should be done 'inline', in other words, do not use \"popup\" windows."
   ]
  },
  {
   "attachments": {
    "image.png": {
     "image/png": "[encoded data removed]"
    }
   },
   "cell_type": "markdown",
   "metadata": {
    "deletable": false,
    "editable": false,
    "nbgrader": {
     "cell_type": "markdown",
     "checksum": "2b63db9ecc99d7efa6ab15c014db42df",
     "grade": false,
     "grade_id": "cell-52e189986d51edc6",
     "locked": true,
     "schema_version": 3,
     "solution": false,
     "task": false
    }
   },
   "source": [
    "## Question 1 [ACF]\n",
    "It is possible to use different methods to compute approximations to $\\pi$. \n",
    "One way is to use the so-called Monte Carlo method which uses random numbers to estimate $\\pi$. \n",
    "Consider the figure below, which shows the unit disc inscribed in the unit square for $x,y\\in [0,1]$. \n",
    "![image.png](attachment:image.png)\n",
    "\n",
    "Denote the areas of the square and disc by $A_s$ and $A_d$, respectively. Then of course $A_s=1$ and $A_d=\\pi/4$ so \n",
    "\n",
    "$$\n",
    "\\frac{A_d}{A_s} = \\frac{\\pi}{4}.\n",
    "$$\n",
    "\n",
    "In the right-hand figure, a set of $N_{total}$ random points (uniformly distributed) have been plotted on the unit square. The points inside and outside the disc are coloured green and red, respectively. If the number of points inside the disc are denoted $N_{disc}$, then the ratio of $N_{disc}$ to $N_{total}$ is an approximation of the ratio of areas above, namely\n",
    "$$\n",
    "\\frac{N_{disc}}{N_{total}} \\approx \\frac{\\pi}{4} \\Rightarrow \\pi = 4 \\frac{N_{disc}}{N_{total}}.\n",
    "$$\n"
   ]
  },
  {
   "cell_type": "markdown",
   "metadata": {
    "deletable": false,
    "editable": false,
    "nbgrader": {
     "cell_type": "markdown",
     "checksum": "43dc69d226903b981d47549192e89eac",
     "grade": false,
     "grade_id": "cell-7e252cfa575b19a4",
     "locked": true,
     "schema_version": 3,
     "solution": false,
     "task": false
    }
   },
   "source": [
    "**(a) [4 marks]** \n",
    "\n",
    "Write a function `estimate_pi_monte_carlo` which implements an algorithm for estimating $\\pi$ by generating a sequence of $N_{total}$ uniformly distributed random numbers in the unit square, counting how many of those points land inside the unit circle, and then returning an approximation to $\\pi$ given by the formula above.\n",
    "\n",
    "The function should:\n",
    "- take the number 'Ntotal' as input and raise a ValueError if the input is not a positive integer;\n",
    "- return a float."
   ]
  },
  {
   "cell_type": "code",
   "execution_count": 3,
   "metadata": {
    "deletable": false,
    "nbgrader": {
     "cell_type": "code",
     "checksum": "d08f1c5c949ffba85f335c9647668200",
     "grade": false,
     "grade_id": "cell-f8768f98ae6eea2d",
     "locked": false,
     "schema_version": 3,
     "solution": true,
     "task": false
    }
   },
   "outputs": [],
   "source": [
    "import random\n",
    "import math\n",
    "def estimate_pi_monte_carlo(Ntotal):\n",
    "    if type(Ntotal)!=int or Ntotal<=0:\n",
    "        raise ValueError(\"Ntotal must be a postive integer\")\n",
    "    xpoints=[]\n",
    "    ypoints=[]\n",
    "    inside_circle=0\n",
    "    array=[]\n",
    "    for i in range(0,Ntotal):\n",
    "        x=random.uniform(0,1)\n",
    "        y=random.uniform(0,1)\n",
    "        xpoints.append(x)\n",
    "        ypoints.append(y)\n",
    "    for j in range(0,len(xpoints)):\n",
    "        distance=((xpoints[j]**2)+(ypoints[j]**2))**(0.5)\n",
    "        if distance<=1:\n",
    "             inside_circle=inside_circle+1\n",
    "    estimate=4*(inside_circle/Ntotal)\n",
    "    return estimate"
   ]
  },
  {
   "cell_type": "code",
   "execution_count": 4,
   "metadata": {
    "deletable": false,
    "editable": false,
    "nbgrader": {
     "cell_type": "code",
     "checksum": "8171d76015d0cef53ce6dde3a61fa390",
     "grade": true,
     "grade_id": "cell-b600b1d60f339163",
     "locked": true,
     "points": 1,
     "schema_version": 3,
     "solution": false,
     "task": false
    }
   },
   "outputs": [],
   "source": [
    "# 1 mark\n",
    "# Test that we return a float\n",
    "from nose.tools import assert_equal\n",
    "assert_equal(type(estimate_pi_monte_carlo(100)),float)"
   ]
  },
  {
   "cell_type": "code",
   "execution_count": 5,
   "metadata": {
    "deletable": false,
    "editable": false,
    "nbgrader": {
     "cell_type": "code",
     "checksum": "ce3936c22ff3281586741fcc3f626acf",
     "grade": true,
     "grade_id": "cell-40a19e6dd2dc005e",
     "locked": true,
     "points": 2,
     "schema_version": 3,
     "solution": false,
     "task": false
    }
   },
   "outputs": [],
   "source": [
    "# 2 marks\n",
    "# Check that the correct value is output\n",
    "from nose.tools import assert_almost_equal\n",
    "import math\n",
    "# Correct approximations might be bad by chance so we put in an error tolerance of 0.5\n",
    "assert_almost_equal(estimate_pi_monte_carlo(100000),math.pi,delta=0.5) "
   ]
  },
  {
   "cell_type": "code",
   "execution_count": 6,
   "metadata": {
    "deletable": false,
    "editable": false,
    "nbgrader": {
     "cell_type": "code",
     "checksum": "515b452a01e89da6475ad49e4ce30d37",
     "grade": true,
     "grade_id": "cell-d372fe6a1875cc31",
     "locked": true,
     "points": 1,
     "schema_version": 3,
     "solution": false,
     "task": false
    }
   },
   "outputs": [],
   "source": [
    "# 1 mark\n",
    "# Check that ValueError is raised on wrong input\n",
    "from nose.tools import assert_raises\n",
    "assert_raises(ValueError,estimate_pi_monte_carlo,-1)\n",
    "assert_raises(ValueError,estimate_pi_monte_carlo,1.0)"
   ]
  },
  {
   "cell_type": "markdown",
   "metadata": {
    "deletable": false,
    "editable": false,
    "nbgrader": {
     "cell_type": "markdown",
     "checksum": "f37c4b4228d2affb71b4fa71252d62c0",
     "grade": false,
     "grade_id": "cell-256b8a2615cb6901",
     "locked": true,
     "schema_version": 3,
     "solution": false,
     "task": false
    }
   },
   "source": [
    "**(b) [4 marks]** \n",
    "Illustrate the Monte Carlo method of approximating $\\pi$ by writing a function `draw_monte_carlo` which takes as input $N_{total}$ and draws the figures included above with two subplots of the unit square. \n",
    "- the left subplot should contain a green quarter circle and the rest red;\n",
    "- the right subplot should contain a scatter plot of $N_{total}$ uniformly distributed random points;\n",
    "- the points inside the unit circle should be coloured green and points outside coloured red;\n",
    "- the unit circle itself should be coloured blue;\n",
    "- the plot should have relevant labels and tick marks.\n",
    "\n",
    "Write the function in the next cell and call the function in the following cell to render it."
   ]
  },
  {
   "cell_type": "code",
   "execution_count": 9,
   "metadata": {
    "deletable": false,
    "nbgrader": {
     "cell_type": "code",
     "checksum": "f1a110cb28724869a2cca849e0820286",
     "grade": true,
     "grade_id": "cell-4768e29ec4fffecb",
     "locked": false,
     "points": 4,
     "schema_version": 3,
     "solution": true,
     "task": false
    }
   },
   "outputs": [],
   "source": [
    "import numpy as np\n",
    "import matplotlib.pyplot as plt\n",
    "def draw_monte_carlo(Ntotal):\n",
    "    fig=plt.figure(figsize=(4,2))\n",
    "    ax1=fig.add_subplot(121)\n",
    "    ax2=fig.add_subplot(122)\n",
    "    if type(Ntotal)!=int or Ntotal<=0:\n",
    "        raise ValueError(\"Ntotal must be a postive integer\")\n",
    "    xpoints=[]\n",
    "    ypoints=[]\n",
    "    array1=[]\n",
    "    array2=[]\n",
    "    for i in range(0,Ntotal):\n",
    "        x=random.uniform(0,1)\n",
    "        y=random.uniform(0,1)\n",
    "        xpoints.append(x)\n",
    "        ypoints.append(y)\n",
    "    for j in range(0,len(xpoints)):\n",
    "        if ((xpoints[j]**2)+(ypoints[j]**2))**(0.5)<=1:\n",
    "            ax2.scatter(xpoints[j],ypoints[j], color=\"green\")\n",
    "        else:\n",
    "            ax2.scatter(xpoints[j],ypoints[j], color=\"red\")\n",
    "    x=np.linspace(0,1)\n",
    "    y1=np.sqrt(1-x**2)\n",
    "    ax1.set_xlim(0,1)\n",
    "    ax1.set_ylim(0,1)\n",
    "    ax1.plot(x,y1)\n",
    "    ax1.fill_between(x,2-x,color=\"red\")\n",
    "    ax1.fill_between(x,np.sqrt(1-(x**2)), color=\"green\") \n",
    "    ax1.set_xlabel(\"x scatter points\")\n",
    "    ax1.set_ylabel(\"y scatter points\")\n",
    "    ax2.set_xlabel(\"x scatter points\")\n",
    "    ax2.set_ylabel(\"y scatter points\")\n",
    "    ax2.set_xlim(0,1)\n",
    "    ax2.set_ylim(0,1)\n",
    "    ax2.plot(x,y1)\n",
    "    plt.subplots_adjust(wspace=0.5)\n",
    "    plt.show()"
   ]
  },
  {
   "cell_type": "code",
   "execution_count": 10,
   "metadata": {
    "deletable": false,
    "editable": false,
    "nbgrader": {
     "cell_type": "code",
     "checksum": "b06eb4be806ab49124d558449dbb76bb",
     "grade": false,
     "grade_id": "cell-dd84b63fbaad118e",
     "locked": true,
     "schema_version": 3,
     "solution": false,
     "task": false
    }
   },
   "outputs": [
    {
     "data": {
      "image/png": "[encoded data removed]",
      "text/plain": [
       "<Figure size 288x144 with 2 Axes>"
      ]
     },
     "metadata": {
      "needs_background": "light"
     },
     "output_type": "display_data"
    }
   ],
   "source": [
    "draw_monte_carlo(250)"
   ]
  },
  {
   "cell_type": "markdown",
   "metadata": {
    "deletable": false,
    "editable": false,
    "nbgrader": {
     "cell_type": "markdown",
     "checksum": "c452ab23ce3df9b1f1cc1c0a660cee50",
     "grade": false,
     "grade_id": "cell-a12a5147e3c73e76",
     "locked": true,
     "schema_version": 3,
     "solution": false,
     "task": false
    }
   },
   "source": [
    "**(c) [4 marks]**\n",
    "An alternative method for approximating $\\pi$ is to use the partial sum \n",
    "\n",
    "$$\n",
    "S_n = \\sum_{k=1}^{n}\\frac{1}{k^2}\n",
    "$$\n",
    "\n",
    "since it is known that $S_n \\to \\frac{\\pi^2}{6}$. \n",
    "(This formula was proven by Euler in 1734 and is a solution to the so-called Basel problem). \n",
    "\n",
    "Write a function `estimate_pi_euler` which takes a positive integer $n$ as input and returns an estimate of $\\pi$ by using this formula for the given $n$. Your function should also raise a ValueError if the input is not a non-negative integer. "
   ]
  },
  {
   "cell_type": "code",
   "execution_count": 11,
   "metadata": {
    "deletable": false,
    "nbgrader": {
     "cell_type": "code",
     "checksum": "729918560a24b0a0e733397d6ed8e257",
     "grade": false,
     "grade_id": "cell-564cc88a18006322",
     "locked": false,
     "schema_version": 3,
     "solution": true,
     "task": false
    }
   },
   "outputs": [],
   "source": [
    "import math\n",
    "def estimate_pi_euler(n):\n",
    "    if type(n)!=int or n<=0:\n",
    "        raise ValueError(\"The value of n must be a non-negetive integer\")\n",
    "    sn=0\n",
    "    for i in range(1,n+1):\n",
    "        sn=sn+(1/(i**2))\n",
    "    pi_value=math.sqrt(6*sn)\n",
    "    return(pi_value)"
   ]
  },
  {
   "cell_type": "code",
   "execution_count": 12,
   "metadata": {
    "deletable": false,
    "editable": false,
    "nbgrader": {
     "cell_type": "code",
     "checksum": "5ec64b0de7890e42e311ffafacd8753d",
     "grade": true,
     "grade_id": "cell-554175f7865c7b9d",
     "locked": true,
     "points": 1,
     "schema_version": 3,
     "solution": false,
     "task": false
    }
   },
   "outputs": [],
   "source": [
    "# 1 mark\n",
    "# Test that the function returns a float\n",
    "from nose.tools import assert_equal\n",
    "assert_equal(type(estimate_pi_euler(100)),float)"
   ]
  },
  {
   "cell_type": "code",
   "execution_count": 13,
   "metadata": {
    "deletable": false,
    "editable": false,
    "nbgrader": {
     "cell_type": "code",
     "checksum": "6036b28fcd4cc442238b5383d4dd1c84",
     "grade": true,
     "grade_id": "cell-6abec8862f271f40",
     "locked": true,
     "points": 2,
     "schema_version": 3,
     "solution": false,
     "task": false
    }
   },
   "outputs": [],
   "source": [
    "# 2 marks\n",
    "# Test that the euler method outputs a number reasonably close to pi\n",
    "from nose.tools import assert_almost_equal\n",
    "import math\n",
    "assert_almost_equal(estimate_pi_euler(100000),math.pi,delta=0.1) "
   ]
  },
  {
   "cell_type": "code",
   "execution_count": 14,
   "metadata": {
    "deletable": false,
    "editable": false,
    "nbgrader": {
     "cell_type": "code",
     "checksum": "750e1345cada56fa90593d18c754225f",
     "grade": true,
     "grade_id": "cell-7334befce5c0aa31",
     "locked": true,
     "points": 1,
     "schema_version": 3,
     "solution": false,
     "task": false
    }
   },
   "outputs": [],
   "source": [
    "# 1 mark\n",
    "# Check that ValueError is raised for incorrect input\n",
    "from nose.tools import assert_raises\n",
    "assert_raises(ValueError,estimate_pi_euler,-1)\n",
    "assert_raises(ValueError,estimate_pi_euler,1.0)"
   ]
  },
  {
   "cell_type": "markdown",
   "metadata": {
    "deletable": false,
    "editable": false,
    "nbgrader": {
     "cell_type": "markdown",
     "checksum": "0beb05b8c0aca933aabfa930963ed26b",
     "grade": false,
     "grade_id": "cell-9141d48524e280cb",
     "locked": true,
     "schema_version": 3,
     "solution": false,
     "task": false
    }
   },
   "source": [
    "**(d) [4 marks]** \n",
    "There are many many more ways to approximate $\\pi$. One of the most efficient algorithms is using the following partial sums:\n",
    "\n",
    "$$\n",
    "S_n = {\\frac {2{\\sqrt {2}}}{9801}}\\sum _{k=0}^{n }{\\frac {(4k)!(1103+26390k)}{(k!)^{4}396^{4k}}}\n",
    "$$\n",
    "\n",
    "since it is know that $S_n \\to \\frac{1}{\\pi}$ as $n\\to \\infty$. This series was discovered by Ramanujan in 1910 and versions of it are used for all record-breaking calculations for digits of $\\pi$. \n",
    "\n",
    "Write a function `estimate_pi_ramanujan` which takes a non-negative integer $n$ as input and returns an estimate of $\\pi$ by using this formula for the given $n$. Your function should also raise a ValueError if the input is not a non-negative integer. \n"
   ]
  },
  {
   "cell_type": "code",
   "execution_count": 15,
   "metadata": {
    "deletable": false,
    "nbgrader": {
     "cell_type": "code",
     "checksum": "9fcdfa112fc593d7c723c032a96b4ffb",
     "grade": false,
     "grade_id": "cell-4759cc606fe3683d",
     "locked": false,
     "schema_version": 3,
     "solution": true,
     "task": false
    }
   },
   "outputs": [],
   "source": [
    "import math\n",
    "def estimate_pi_ramanujan(n):\n",
    "    if type(n)!=int or n<=0:\n",
    "        raise ValueError(\"The value of n must be a non-negetive integer\")\n",
    "    series=0\n",
    "    for i in range(0,n+1):\n",
    "        p=(math.factorial(4*i))*(1103+(26390*i))\n",
    "        q=((math.factorial(i))**4)*(396**(4*i))\n",
    "        series=series+(p/q)\n",
    "    sn=((2*math.sqrt(2))/9801)*series\n",
    "    pi_estimate=1/sn\n",
    "    return pi_estimate"
   ]
  },
  {
   "cell_type": "code",
   "execution_count": 16,
   "metadata": {
    "deletable": false,
    "editable": false,
    "nbgrader": {
     "cell_type": "code",
     "checksum": "3fc0bf44a4cec504119e46e0e5248014",
     "grade": true,
     "grade_id": "cell-ab6341e170269af2",
     "locked": true,
     "points": 1,
     "schema_version": 3,
     "solution": false,
     "task": false
    }
   },
   "outputs": [],
   "source": [
    "# 1 mark\n",
    "# Test that the function returns a float\n",
    "from nose.tools import assert_equal\n",
    "assert_equal(type(estimate_pi_ramanujan(100)),float)"
   ]
  },
  {
   "cell_type": "code",
   "execution_count": 17,
   "metadata": {
    "deletable": false,
    "editable": false,
    "nbgrader": {
     "cell_type": "code",
     "checksum": "eb5cf4fdd95b0aa106eb7f9c230ce344",
     "grade": true,
     "grade_id": "cell-822ff06599582e0b",
     "locked": true,
     "points": 2,
     "schema_version": 3,
     "solution": false,
     "task": false
    }
   },
   "outputs": [],
   "source": [
    "# 2 marks\n",
    "# Test that the ramanujan method provides a good estimate\n",
    "from nose.tools import assert_almost_equal\n",
    "import math\n",
    "assert_almost_equal(estimate_pi_ramanujan(100),math.pi,delta=1e-10) "
   ]
  },
  {
   "cell_type": "code",
   "execution_count": 18,
   "metadata": {
    "deletable": false,
    "editable": false,
    "nbgrader": {
     "cell_type": "code",
     "checksum": "eb27e907d992686b57b148bddc1f81ff",
     "grade": true,
     "grade_id": "cell-d0adfaa1a1f5ca4d",
     "locked": true,
     "points": 1,
     "schema_version": 3,
     "solution": false,
     "task": false
    }
   },
   "outputs": [],
   "source": [
    "# 1 mark\n",
    "# Check that ValueError is raised for incorrect input\n",
    "from nose.tools import assert_raises\n",
    "assert_raises(ValueError,estimate_pi_ramanujan,-1)\n",
    "assert_raises(ValueError,estimate_pi_ramanujan,1.0)"
   ]
  },
  {
   "cell_type": "markdown",
   "metadata": {
    "deletable": false,
    "editable": false,
    "nbgrader": {
     "cell_type": "markdown",
     "checksum": "614eed412ca7bdf44a3915eb76cadb6a",
     "grade": false,
     "grade_id": "cell-c09fe032fdd8bd7a",
     "locked": true,
     "points": 4,
     "schema_version": 3,
     "solution": false,
     "task": true
    }
   },
   "source": [
    "**(e) [4 marks]**\n",
    "You should now compare the three methods that you have implemented above for estimating $\\pi$.\n",
    "\n",
    "(i) Call each of them (or as many as you have done) with the input parameters $100$ and $10^4$ and print the resulting values. \n",
    "\n",
    "(ii) Comparing with the value of `math.pi`, which method do you think is more efficient? \n",
    "\n",
    "Give your answers in a new markdown formatted cell below.\n"
   ]
  },
  {
   "cell_type": "code",
   "execution_count": 33,
   "metadata": {},
   "outputs": [
    {
     "data": {
      "text/plain": [
       "0.0"
      ]
     },
     "execution_count": 33,
     "metadata": {},
     "output_type": "execute_result"
    }
   ],
   "source": [
    "import math\n",
    "estimate_pi_monte_carlo(100)\n",
    "estimate_pi_monte_carlo(10000)\n",
    "estimate_pi_euler(100)\n",
    "estimate_pi_euler(10000)\n",
    "estimate_pi_ramanujan(100)\n",
    "estimate_pi_ramanujan(10000)\n",
    "math.pi-estimate_pi_monte_carlo(100)\n",
    "math.pi-estimate_pi_monte_carlo(10000)\n",
    "math.pi-estimate_pi_euler(100)\n",
    "math.pi-estimate_pi_euler(10000)\n",
    "math.pi-estimate_pi_ramanujan(100)\n",
    "math.pi-estimate_pi_ramanujan(10000)"
   ]
  },
  {
   "cell_type": "markdown",
   "metadata": {},
   "source": [
    "Estimate of pi using Monte Carlo(100): 3.04 <br> Estimate of pi using Monte Carlo(10000): 3.124 <br>\n",
    "Estimate of pi using Euler(100): 3.1320765318091053 <br>\n",
    "Estimate of pi using Euler(10000): 3.1414971639472147 <br>\n",
    "Estimate of pi using Ramanujan(100): 3.141592653589793 <br>\n",
    "<br>\n",
    "Difference between value of math.pi and value of pi by Monte Carlo method(100): 0.10159265358979308 <br>\n",
    "Difference between value of math.pi and value of pi by Monte Carlo method(10000): -0.012407346410206799 <br>\n",
    "Difference between value of math.pi and value of pi by Euler Method(100): 0.009516121780687836 <br>\n",
    "Difference between value of math.pi and value of pi by Euler method(10000): 9.548964257843906e-05 <br>\n",
    "Difference between value of math.pi and value of pi by Ramanujan method(100): 0.0 <br>\n",
    "Difference between value of math.pi and value of pi by Ramanujan method(10000): 0.0 <br>\n",
    "<br>\n",
    "Answer: As the difference between the value of pi obtained by math.pi and the value of pi obtained by ramanujan method is smallest, thus Ramanujan is the most effiecient method to obtain the value of pi."
   ]
  },
  {
   "cell_type": "markdown",
   "metadata": {
    "deletable": false,
    "editable": false,
    "nbgrader": {
     "cell_type": "markdown",
     "checksum": "65f4cf3f78128beb98f1339b0750d76f",
     "grade": false,
     "grade_id": "cell-f634e5d5616a9a72",
     "locked": true,
     "schema_version": 3,
     "solution": false,
     "task": false
    }
   },
   "source": [
    "## Question 2 [CAL]\n",
    "\n",
    "The sequence of functions $F_n(x,y)$ for ($n\\ge0$) is defined by the recurrence formula\n",
    "\n",
    "$$\n",
    "F_0(x,y)=1,\\quad F_1(x,y)=\\frac{x}{2} - y^2\n",
    "$$\n",
    "and \n",
    "$$\n",
    "2n^2 F_{n+1}(x,y) = 2nxyF_n(x,y) - (2n+1)F_{n-1}(x,y),\\quad n\\ge 1.\n",
    "$$\n",
    "\n",
    "**(a) [5 marks]** Write a recursive function (i.e. a function that calls itself) `evalFn` which evaluates the function $F_n$ with the arguments $x$ and $y$.\n",
    "- The function should return a float if the input is a scalar;\n",
    "- If the inputs x and y are both two-dimensional NumPy arrays then the output should also be a two-dimensional NumPy array;\n",
    "- If the inputs are numpy arrays of different shapes it should raise a ValueError."
   ]
  },
  {
   "cell_type": "code",
   "execution_count": 19,
   "metadata": {
    "deletable": false,
    "nbgrader": {
     "cell_type": "code",
     "checksum": "11418ff01f9776be914c407234dab07a",
     "grade": false,
     "grade_id": "cell-1f0a28112da0f41a",
     "locked": false,
     "schema_version": 3,
     "solution": true,
     "task": false
    }
   },
   "outputs": [],
   "source": [
    "import numpy as np\n",
    "def evalFn(n,x,y):\n",
    "    if type(x)==np.ndarray and type(y)==np.ndarray:\n",
    "        if len(x)!=len(y):\n",
    "            raise ValueError(\"Arrays must be of same lenght\")\n",
    "        else:\n",
    "            array=[]\n",
    "            array2=[]\n",
    "            F0=1\n",
    "            for i in range(0,len(x)):\n",
    "                p=x[i]\n",
    "                q=y[i]\n",
    "                array=[]\n",
    "                for j in range(0,len(p)):\n",
    "                    F0=1\n",
    "                    F1=(p[j]/2)-(q[j]**2)\n",
    "                    for k in range(1,n+1):\n",
    "                        F_n_plus_one=((((p[j]*q[j])/k)*(F1))-(((2*k+1)/(2*(k**2)))*F0))\n",
    "                        F0=F1\n",
    "                        F1=F_n_plus_one\n",
    "                    array.append(F0)\n",
    "                array2.append(array)\n",
    "            result=np.array(array2)\n",
    "            return result\n",
    "    else:\n",
    "        F0=1\n",
    "        F1=(x/2)-(y**2)\n",
    "        F_n_plus_one=0\n",
    "        if n==0:\n",
    "            F0=F0\n",
    "        for i in range(1,n+1):\n",
    "            F_n_plus_one=(((x*y)/i)*F1)-((((2*i)+1)/(2*(i**2)))*F0)\n",
    "            F0=F1\n",
    "            F1=F_n_plus_one\n",
    "    return F0"
   ]
  },
  {
   "cell_type": "code",
   "execution_count": 20,
   "metadata": {
    "deletable": false,
    "editable": false,
    "nbgrader": {
     "cell_type": "code",
     "checksum": "b4be8a55f1bd97b29d29a07eee1a0734",
     "grade": true,
     "grade_id": "cell-e904974906967df0",
     "locked": true,
     "points": 1,
     "schema_version": 3,
     "solution": false,
     "task": false
    }
   },
   "outputs": [],
   "source": [
    "# 1 mark\n",
    "# Test that 'evalFn' returns a float if a scalar is input\n",
    "from nose.tools import assert_equal\n",
    "assert_equal(type(evalFn(1,1,1)),float)"
   ]
  },
  {
   "cell_type": "code",
   "execution_count": 21,
   "metadata": {
    "deletable": false,
    "editable": false,
    "nbgrader": {
     "cell_type": "code",
     "checksum": "4f45120975b98faf6638768125bbdaa3",
     "grade": true,
     "grade_id": "cell-8611d0e9fad64f34",
     "locked": true,
     "points": 1,
     "schema_version": 3,
     "solution": false,
     "task": false
    }
   },
   "outputs": [],
   "source": [
    "# 1 mark\n",
    "# Test that 'evalFn' outputs the correct values for some values of n\n",
    "from nose.tools import assert_equal,assert_almost_equal\n",
    "assert_equal(evalFn(1,1,1),-0.5)\n",
    "assert_almost_equal(evalFn(4,1,1),0.5486111111111112,delta=1e-10)"
   ]
  },
  {
   "cell_type": "code",
   "execution_count": 22,
   "metadata": {
    "deletable": false,
    "editable": false,
    "nbgrader": {
     "cell_type": "code",
     "checksum": "2099b01cc2e8537be61437b212d0455f",
     "grade": true,
     "grade_id": "cell-4f586f3852a5a124",
     "locked": true,
     "points": 1,
     "schema_version": 3,
     "solution": false,
     "task": false
    }
   },
   "outputs": [],
   "source": [
    "# 1 mark\n",
    "# Hidden tests that 'evalFn' outputs the correct values for some other values of n\n",
    "from nose.tools import assert_equal,assert_almost_equal"
   ]
  },
  {
   "cell_type": "code",
   "execution_count": 23,
   "metadata": {
    "deletable": false,
    "editable": false,
    "nbgrader": {
     "cell_type": "code",
     "checksum": "094f0f4a24519a0c7cfc1e719a7c3495",
     "grade": true,
     "grade_id": "cell-6865d5b69b8cd92a",
     "locked": true,
     "points": 1,
     "schema_version": 3,
     "solution": false,
     "task": false
    }
   },
   "outputs": [],
   "source": [
    "# 1 mark\n",
    "# Test that the 'evalFn' returns a numpy array of correct shape if the inputs are numpy arrays\n",
    "from nose.tools import assert_equal,assert_almost_equal,assert_raises,assert_true\n",
    "import numpy as np\n",
    "x = np.linspace(0,1,2)\n",
    "y = np.linspace(0,1,3)\n",
    "X,Y = np.meshgrid(x,y)\n",
    "assert_equal(type(evalFn(0,X,Y)),np.ndarray)\n",
    "assert_equal(type(evalFn(1,X,Y)),np.ndarray)\n",
    "assert_equal(evalFn(1,X,Y).shape,(3,2),\"Function should return a 3 x 2 grid!\")"
   ]
  },
  {
   "cell_type": "code",
   "execution_count": 24,
   "metadata": {
    "deletable": false,
    "editable": false,
    "nbgrader": {
     "cell_type": "code",
     "checksum": "5a89b7027ad4bcdf0778190a3d06e88a",
     "grade": true,
     "grade_id": "cell-e47879c81586be00",
     "locked": true,
     "points": 1,
     "schema_version": 3,
     "solution": false,
     "task": false
    }
   },
   "outputs": [],
   "source": [
    "# 1 mark\n",
    "# Test that 'evalFn' returns the correct values for some input vectors\n",
    "import numpy as np\n",
    "x = np.linspace(0,1,2)\n",
    "y = np.linspace(0,1,3)\n",
    "X,Y = np.meshgrid(x,y)\n",
    "assert_true( (evalFn(0,X,Y)==np.ones((3,2))).all())\n",
    "assert_equal(evalFn(3,X,Y)[0,0],0.0)\n",
    "assert_almost_equal(evalFn(3,X,Y)[2,1],-0.6875,delta=1e-6)"
   ]
  },
  {
   "cell_type": "markdown",
   "metadata": {
    "deletable": false,
    "editable": false,
    "nbgrader": {
     "cell_type": "markdown",
     "checksum": "6720499e8ddbb0d428a0bb3f3628d765",
     "grade": false,
     "grade_id": "cell-2b0d234241bf5668",
     "locked": true,
     "schema_version": 3,
     "solution": false,
     "task": false
    }
   },
   "source": [
    "**(b) [5 marks]** \n",
    "Use your function from **(a)** to plot the surfaces $F_{n}(x, y)$ for $n = 0, 1, 2, 3, 4, 5$ and $−1 \\le x, y \\le 1$. Display the 6 plots in the same figure using subplots in two rows and three columns, labelling each plot clearly.\n",
    "Insert the code for plotting in the cell below."
   ]
  },
  {
   "cell_type": "code",
   "execution_count": 25,
   "metadata": {
    "deletable": false,
    "nbgrader": {
     "cell_type": "code",
     "checksum": "e159da4a5e564d34ac9229d6c71c3566",
     "grade": true,
     "grade_id": "cell-8db015e214cf460c",
     "locked": false,
     "points": 5,
     "schema_version": 3,
     "solution": true,
     "task": false
    }
   },
   "outputs": [
    {
     "data": {
      "image/png": "[encoded data removed]",
      "text/plain": [
       "<Figure size 432x288 with 6 Axes>"
      ]
     },
     "metadata": {
      "needs_background": "light"
     },
     "output_type": "display_data"
    }
   ],
   "source": [
    "import numpy as np\n",
    "import matplotlib.pyplot as plt\n",
    "fig=plt.figure()\n",
    "ax1=fig.add_subplot(231,projection='3d')\n",
    "ax2=fig.add_subplot(232,projection='3d')\n",
    "ax3=fig.add_subplot(233,projection='3d')\n",
    "ax4=fig.add_subplot(234,projection='3d')\n",
    "ax5=fig.add_subplot(235,projection='3d')\n",
    "ax6=fig.add_subplot(236,projection='3d')\n",
    "x=np.linspace(-1,1)\n",
    "y=np.linspace(-1,1)\n",
    "X,Y=np.meshgrid(x,y)\n",
    "Z1=evalFn(0,X,Y)\n",
    "Z2=evalFn(1,X,Y)\n",
    "Z3=evalFn(2,X,Y)\n",
    "Z4=evalFn(3,X,Y)\n",
    "Z5=evalFn(4,X,Y)\n",
    "Z6=evalFn(5,X,Y)\n",
    "ax1.plot_surface(X,Y,Z1,color=\"red\")\n",
    "ax1.set_title(\"Surface for n=0\")\n",
    "ax2.plot_surface(X,Y,Z2,color=\"blue\")\n",
    "ax2.set_title(\"Surface for n=1\")\n",
    "ax3.plot_surface(X,Y,Z3,color=\"green\")\n",
    "ax3.set_title(\"Surface for n=2\")\n",
    "ax4.plot_surface(X,Y,Z4,color=\"yellow\")\n",
    "ax4.set_title(\"Surface for n=3\")\n",
    "ax5.plot_surface(X,Y,Z5,color=\"purple\")\n",
    "ax5.set_title(\"Surface for n=4\")\n",
    "ax6.plot_surface(X,Y,Z6,color=\"brown\")\n",
    "ax6.set_title(\"Surface for n=5\")\n",
    "plt.subplots_adjust(wspace=0.4, hspace=0.4)\n",
    "plt.show()"
   ]
  },
  {
   "cell_type": "markdown",
   "metadata": {
    "deletable": false,
    "editable": false,
    "nbgrader": {
     "cell_type": "markdown",
     "checksum": "453f6941ef1f35672febc5e5de573737",
     "grade": false,
     "grade_id": "cell-12fdd1d14f743e6b",
     "locked": true,
     "schema_version": 3,
     "solution": false,
     "task": false
    }
   },
   "source": [
    "**(c) [5 marks]**\n",
    "In addition to working numerically we can also use SymPy to study the functions $F_n$ symbolically and obtain explicit expressions.\n",
    "\n",
    "(i) Use `SymPy` to write a function `symbolicFn` which gives an expression for $F_n(x,y)$ as a polynomial in $x$ and $y$ of the form \n",
    "\n",
    "$$\n",
    "\\sum_{i,j} a(n,i,j)x^i y^j.\n",
    "$$\n",
    "\n",
    "The function should take symbolic values for $x$ and $y$ (as given by e.g. `x, y = sympy.symbols('x y')`) as input and output a polynomial in $x$ and $y$ of the type `sympy.Poly`.\n",
    "\n",
    "(ii) Call this function and compute explicit expressions of $F_n$ for $n=2,3$ and $4$ and give your answer in the indicated cell below.\n",
    "\n",
    "Hints: you might find the functions .as_poly() and sympy.Poly useful."
   ]
  },
  {
   "cell_type": "code",
   "execution_count": 26,
   "metadata": {
    "deletable": false,
    "nbgrader": {
     "cell_type": "code",
     "checksum": "aa3c810bf31e46e77d34ad7c7123eb12",
     "grade": false,
     "grade_id": "cell-7c81740c09f6b81b",
     "locked": false,
     "schema_version": 3,
     "solution": true,
     "task": false
    }
   },
   "outputs": [],
   "source": [
    "import sympy\n",
    "from sympy import poly\n",
    "def symbolicFn(n,x,y):\n",
    "    sum1=0\n",
    "    F0=1\n",
    "    F1=(x/2)-(y**2)\n",
    "    F_n_plus_one=0\n",
    "    if n==0:\n",
    "        F0=F0\n",
    "        sum1=sum1+F0\n",
    "    else:\n",
    "        for i in range(1,n+1):\n",
    "            F_n_plus_one=(((x*y)/i)*F1)-((((2*i)+1)/(2*(i**2)))*F0)           \n",
    "            F0=F1\n",
    "            F1=F_n_plus_one\n",
    "        sum1=sum1+F0\n",
    "    if type(sum1)==int:\n",
    "        return sum1\n",
    "    else:\n",
    "        sum1=sum1.as_poly()\n",
    "        return sum1"
   ]
  },
  {
   "cell_type": "code",
   "execution_count": 27,
   "metadata": {
    "deletable": false,
    "editable": false,
    "nbgrader": {
     "cell_type": "code",
     "checksum": "b57a1fa1d9c0736496dd2e2e5543e527",
     "grade": true,
     "grade_id": "cell-35a33229368f8986",
     "locked": true,
     "points": 2,
     "schema_version": 3,
     "solution": false,
     "task": false
    }
   },
   "outputs": [],
   "source": [
    "# 2 marks\n",
    "# Test that the above algorithm provides reasonable outcome\n",
    "from nose.tools import assert_equal,assert_almost_equal,assert_raises,assert_true\n",
    "import sympy\n",
    "x, y = sympy.symbols('x y')\n",
    "# Check that we get back the constant 1 as a polynomial in x and y (even though the only power is x^0y^0)\n",
    "assert_equal(symbolicFn(0,x,y),sympy.Poly(1,x,y,domain=sympy.QQ)) \n",
    "assert_equal(symbolicFn(1,x,y),sympy.Poly(x/2-y**2,x,y))"
   ]
  },
  {
   "cell_type": "markdown",
   "metadata": {
    "deletable": false,
    "editable": false,
    "nbgrader": {
     "cell_type": "markdown",
     "checksum": "033dcec7113d8b5fbe6d5bbf6a927bb0",
     "grade": false,
     "grade_id": "cell-3a175656b9b24654",
     "locked": true,
     "points": 3,
     "schema_version": 3,
     "solution": false,
     "task": true
    }
   },
   "source": [
    "[3 marks]:\n",
    "\n",
    "Insert the expressions you found for $F_2$, $F_3$ and $F_4$ here. Use LaTeX notation to display the polynomials. Recall that in Markdown LaTeX expressions are contained between \\$\\$ signs. For instance, the following:\n",
    "```\n",
    "$$\n",
    "p_i(x,y) = \\frac{4}{5}x^2 y^3 - \\frac{1}{2} x^4 y^5 - 2 x\n",
    "$$\n",
    "```\n",
    "displays as \n",
    "$$\n",
    "p_i(x,y) = \\frac{4}{5}x^2 y^3 - \\frac{1}{2} x^4 y^5 - 2 x.\n",
    "$$\n",
    "To find the LaTeX expression of a given object in SymPy you can use the function sympy.latex(). For example:\n",
    "```\n",
    "sympy.latex(sympy.QQ(4)/sympy.QQ(5)*x**2*y**3) \n",
    "```\n",
    "outputs '\\\\frac{4 x^{2} y^{3}}{5}'. Note that the '\\\\' sign is escaped as '\\\\\\\\' so you need to replace it by a single '\\\\'.\n"
   ]
  },
  {
   "cell_type": "markdown",
   "metadata": {},
   "source": [
    "$$\n",
    "F_2(x,y) = 0.5 x^2 y - 1.0 x y^3 - 1.5\n",
    "$$"
   ]
  },
  {
   "cell_type": "markdown",
   "metadata": {},
   "source": [
    "$$\n",
    "F_3(x,y) = 0.25 x^3 y^2 - 0.5 x^2 y^4 - 0.75 x y - 0.3125 x + 0.625 y^2\n",
    "$$"
   ]
  },
  {
   "cell_type": "markdown",
   "metadata": {},
   "source": [
    "$$\n",
    "F_4(x,y) = 0.083 x^4 y^3 - 0.167 x^3 y^5 - 0.25 x^2 y^2 - 0.2986 x^2 y + 0.5972 x y^3 + 0.583\n",
    "$$"
   ]
  },
  {
   "cell_type": "markdown",
   "metadata": {
    "deletable": false,
    "editable": false,
    "nbgrader": {
     "cell_type": "markdown",
     "checksum": "0ef713f86b81a7b93457aca8fe9442c6",
     "grade": false,
     "grade_id": "cell-d20ef0efe75c99e8",
     "locked": true,
     "schema_version": 3,
     "solution": false,
     "task": false
    }
   },
   "source": [
    "**(d) [5 marks]**\n",
    "Use SymPy to find the exact value of the integral \n",
    "$$\n",
    "\\int_{-1}^{1} \\int_{-1}^{1} F_n(x,y)dx dy.\n",
    "$$\n",
    "\n",
    "for $n=3$ and $4$. Write your code to compute the integrals for a general $n$ in the function below. \n",
    "There will be a visible test for $n=3$ and a hidden test for $n=4$. "
   ]
  },
  {
   "cell_type": "code",
   "execution_count": 28,
   "metadata": {
    "deletable": false,
    "nbgrader": {
     "cell_type": "code",
     "checksum": "5b346e732b8648cfcdfd07d46caec01e",
     "grade": false,
     "grade_id": "cell-0551ae10a9329aa5",
     "locked": false,
     "schema_version": 3,
     "solution": true,
     "task": false
    }
   },
   "outputs": [],
   "source": [
    "import sympy\n",
    "def compute_integral(n):\n",
    "    sum1=0\n",
    "    F0=1\n",
    "    F1=(x/2)-(y**2)\n",
    "    F_n_plus_one=0\n",
    "    if n==0:\n",
    "        F0=F0\n",
    "        sum1=sum1+F0\n",
    "    else:\n",
    "        for i in range(1,n+1):\n",
    "            F_n_plus_one=(((x*y)/i)*F1)-((((2*i)+1)/(2*(i**2)))*F0)           \n",
    "            F0=F1\n",
    "            F1=F_n_plus_one\n",
    "        sum1=sum1+F0\n",
    "    if type(sum1)==int:\n",
    "        return sum1\n",
    "    else:\n",
    "        sum1=sum1.as_poly()\n",
    "    r=sympy.integrate(sympy.integrate(sum1.as_expr(),(y,-1,1)),(x,-1,1))\n",
    "    t=sympy.nsimplify(r)\n",
    "    return t"
   ]
  },
  {
   "cell_type": "code",
   "execution_count": 29,
   "metadata": {
    "deletable": false,
    "editable": false,
    "nbgrader": {
     "cell_type": "code",
     "checksum": "79c1a8be66136af6e4c5254147167670",
     "grade": true,
     "grade_id": "cell-730746a12e0c1148",
     "locked": true,
     "points": 3,
     "schema_version": 3,
     "solution": false,
     "task": false
    }
   },
   "outputs": [],
   "source": [
    "# 3 marks\n",
    "# Test that the compute_integral produces the correct output for n=3\n",
    "from nose.tools import assert_equal\n",
    "import sympy\n",
    "assert_equal(compute_integral(3),sympy.QQ(7)/sympy.QQ(10))"
   ]
  },
  {
   "cell_type": "code",
   "execution_count": 30,
   "metadata": {
    "deletable": false,
    "editable": false,
    "nbgrader": {
     "cell_type": "code",
     "checksum": "890ed21c5f59e38bdabea2b950774d08",
     "grade": true,
     "grade_id": "cell-2b52f73914c48c10",
     "locked": true,
     "points": 2,
     "schema_version": 3,
     "solution": false,
     "task": false
    }
   },
   "outputs": [],
   "source": [
    "# 2 marks\n",
    "# Hidden Test that the compute_integral produces the correct output for n=4\n",
    "from nose.tools import assert_equal\n",
    "import sympy"
   ]
  },
  {
   "cell_type": "markdown",
   "metadata": {
    "deletable": false,
    "editable": false,
    "nbgrader": {
     "cell_type": "markdown",
     "checksum": "6936d542ed754988d3aedbb06565a17a",
     "grade": false,
     "grade_id": "cell-54e92d7c3afea33c",
     "locked": true,
     "schema_version": 3,
     "solution": false,
     "task": false
    }
   },
   "source": [
    "## Question 3 [LMA]\n",
    "\n",
    "The Gram-Schmidt process is an algorithm which can be used to construct a set of vectors $\\{\\mathbf{w}_i\\}$ which are **orthonormal**, in other words they are pairwise orthogonal to each other and have lengths equal to 1. This condition can be  expressed in terms of the standard Euclidean scalar (or \"dot\") product as \n",
    "\n",
    "$$\n",
    "\\mathbf{w}_i \\cdot \\mathbf{w}_j = \n",
    "\\begin{cases}\n",
    "1 & \\text{if } i = j,\\\\\n",
    "0 & \\text{if } i\\ne j.\n",
    "\\end{cases}\n",
    "$$\n",
    "\n",
    "If the input to the Gram-Schmidt process is a set of $n$ linearly independent vectors $\\{ \\mathbf{v}_i \\mid i=1,\\ldots,n\\}$ in $\\mathbb{R}^{n}$, then the output will be a set of $n$ orthonormal vectors $\\{\\mathbf{w}_i \\mid i=1,\\ldots,n\\}$ in $\\mathbb{R}^{n}$.\n",
    "\n",
    "In general, if the input vectors are not all linearly independent, then the output will be a set of $n$ vectors containing an orthonormal basis for the linear span of the vectors $\\{ \\mathbf{v}_i\\}$ together with a number of zero-vectors.\n",
    "\n",
    "The method is summarised by the following instructions:\n",
    "- Construct an orthogonal set of vectors $\\{\\mathbf{w}_i\\}$ using the formula: $\\mathbf{w}_1=\\mathbf{v}_1$ and \n",
    "\n",
    "$$\n",
    "\\mathbf{w}_i = \\mathbf{v}_i - \\sum_{j=1}^{i-1} \\frac{\\mathbf{v}_i\\cdot \\mathbf{w}_j}{\\| \\mathbf{w}_j\\|}\\mathbf{w}_j,\\quad i>1.\n",
    "$$\n",
    "\n",
    "- If $\\mathbf{w}_i$ from the previous step is not the zero vector $\\mathbf{0}$, normalise it to have length 1 by setting \n",
    "\n",
    "$$\n",
    "\\mathbf{w}_i = \\frac{\\mathbf{w}_i}{\\|\\mathbf{w}_i \\|}.\n",
    "$$\n"
   ]
  },
  {
   "cell_type": "markdown",
   "metadata": {
    "deletable": false,
    "editable": false,
    "nbgrader": {
     "cell_type": "markdown",
     "checksum": "c8809d0e93cabf0d78f368e6c211baf8",
     "grade": false,
     "grade_id": "cell-3633436f317474ca",
     "locked": true,
     "schema_version": 3,
     "solution": false,
     "task": false
    }
   },
   "source": [
    "**(a) [10 marks]**\n",
    "Write a function `gram_schmidt_np` which takes an $n \\times n$ matrix $V$ given as NumPy array as an input, where the columns of $V$ represent the set of $n$-dimensional vectors $\\{\\mathbf{v}_i\\}$, then uses the Gram-Schmidt process to construct an orthonormal set of vectors $\\{\\mathbf{w}_i\\}$, which are output as the columns of the matrix $W$.\n",
    "\n",
    "- Your function should check that the input V is a square matrix of type np.ndarray, and raise a ValueError if not.\n",
    "- In the normalisation step you can check if $w_i$ has norm less than $1\\cdot 10^{-10}$ instead of checking if it is exactly 0 and in this case just replace it by the zero vector instead of normalising it. \n"
   ]
  },
  {
   "cell_type": "code",
   "execution_count": 31,
   "metadata": {
    "deletable": false,
    "nbgrader": {
     "cell_type": "code",
     "checksum": "ebed4d2cdfe6c75caa70ff22de191105",
     "grade": false,
     "grade_id": "cell-2c038394d0ebff43",
     "locked": false,
     "schema_version": 3,
     "solution": true,
     "task": false
    }
   },
   "outputs": [],
   "source": [
    "import numpy as np\n",
    "def gram_schmidt_np(V):\n",
    "    if type(V)!=np.ndarray:\n",
    "        raise ValueError(\"The input must be of the type np.ndarray\")\n",
    "    if V.shape[0]!=V.shape[1]:\n",
    "        raise ValueError(\"The input must be a square matrix\")\n",
    "    V=V.transpose()\n",
    "    m=V.shape[0]\n",
    "    n=V.shape[1]\n",
    "    array=[V[0]]\n",
    "    array2=[]\n",
    "    sum1=0\n",
    "    sum2=0\n",
    "    sum3=0\n",
    "    for i in range(0,m-1):\n",
    "        W1=V[i]\n",
    "        r=W1*V[i+1]\n",
    "        t=W1*W1\n",
    "        for j in range(0,n):\n",
    "            sum1=sum1+r[j]\n",
    "            sum2=sum2+t[j]\n",
    "        W2=V[i+1]-(((sum1/sum2))*(W1))\n",
    "        array.append(W2)\n",
    "        W1=W2\n",
    "    for k in range(0,len(array)):\n",
    "        x=array[k]\n",
    "        if x.all()==0:\n",
    "            array2.append(x)\n",
    "        else: \n",
    "            sum3=0\n",
    "            for l in range(0,len(x)):\n",
    "                sum3=sum3+((x[l])**2)\n",
    "                root=np.sqrt(sum3)\n",
    "                ans=x/root\n",
    "            array2.append(ans)\n",
    "    matrix=np.asarray(array2)\n",
    "    ans=matrix.transpose()\n",
    "    return ans"
   ]
  },
  {
   "cell_type": "code",
   "execution_count": 32,
   "metadata": {
    "deletable": false,
    "editable": false,
    "nbgrader": {
     "cell_type": "code",
     "checksum": "e2adcd9f8957e2d5db1a01e7ae2c9254",
     "grade": true,
     "grade_id": "cell-0eb1f34611a7be75",
     "locked": true,
     "points": 3,
     "schema_version": 3,
     "solution": false,
     "task": false
    }
   },
   "outputs": [],
   "source": [
    "# 3 marks\n",
    "# Check that it works for a specific matrix V of linearly independent vectors\n",
    "from nose.tools import assert_almost_equal\n",
    "import numpy as np\n",
    "V = np.array([[1,2],[3,4]])\n",
    "W = np.array([[ 0.31622777,  0.9486833 ],[ 0.9486833 , -0.31622777]])\n",
    "W1 = gram_schmidt_np(V)\n",
    "difference = np.linalg.norm(W1-W)\n",
    "assert_almost_equal(difference,0,delta=1e-8)"
   ]
  },
  {
   "cell_type": "code",
   "execution_count": 33,
   "metadata": {
    "deletable": false,
    "editable": false,
    "nbgrader": {
     "cell_type": "code",
     "checksum": "c368ba44bbf83c1088fdec31e24d137a",
     "grade": true,
     "grade_id": "cell-e7e4ba4c4a50dab2",
     "locked": true,
     "points": 3,
     "schema_version": 3,
     "solution": false,
     "task": false
    }
   },
   "outputs": [],
   "source": [
    "# 3 marks\n",
    "# Check that it works for a case when vectors are linearly dependent\n",
    "from nose.tools import assert_almost_equal\n",
    "import numpy as np\n",
    "V = np.array([[1,2],[2,4]])\n",
    "W = gram_schmidt_np(V)\n",
    "W1 = np.array([[0.4472136 , 0.        ], [0.89442719, 0.        ]])\n",
    "difference = np.linalg.norm(W1-W)\n",
    "assert_almost_equal(difference,0,delta=1e-8)"
   ]
  },
  {
   "cell_type": "code",
   "execution_count": 34,
   "metadata": {
    "deletable": false,
    "editable": false,
    "nbgrader": {
     "cell_type": "code",
     "checksum": "a7734733ef6ae1f4b97cb40a8b6409d1",
     "grade": true,
     "grade_id": "cell-ade454bdd04d761c",
     "locked": true,
     "points": 2,
     "schema_version": 3,
     "solution": false,
     "task": false
    }
   },
   "outputs": [],
   "source": [
    "# 2 marks\n",
    "# Hidden test that it works for another matrix input\n",
    "from nose.tools import assert_almost_equal\n",
    "import numpy as np"
   ]
  },
  {
   "cell_type": "code",
   "execution_count": 35,
   "metadata": {
    "deletable": false,
    "editable": false,
    "nbgrader": {
     "cell_type": "code",
     "checksum": "f7943711cd6291ab0b7689822d1f0c65",
     "grade": true,
     "grade_id": "cell-d23c23d8b7f903cd",
     "locked": true,
     "points": 2,
     "schema_version": 3,
     "solution": false,
     "task": false
    }
   },
   "outputs": [],
   "source": [
    "# 2 marks\n",
    "# Check that errors are raised for wrong input\n",
    "from nose.tools import assert_raises\n",
    "assert_raises(ValueError,gram_schmidt_np,1)\n",
    "assert_raises(ValueError,gram_schmidt_np,np.array([[1,2],[3,4],[5,6]]))"
   ]
  },
  {
   "cell_type": "markdown",
   "metadata": {
    "deletable": false,
    "editable": false,
    "nbgrader": {
     "cell_type": "markdown",
     "checksum": "7d122f7581a20539825d5eacd17b3c1f",
     "grade": false,
     "grade_id": "cell-2590229acd17542d",
     "locked": true,
     "schema_version": 3,
     "solution": false,
     "task": false
    }
   },
   "source": [
    "Instead of using NumPy for working with vectors it is also possible to use SymPy.\n",
    "\n",
    "**(b) [10 marks]** \n",
    "\n",
    "Write a function `gram_schmidt_sp` which takes an $n \\times n$ square matrix $V$ given as a SymPy Matrix as input, where the columns of $V$ represent the set of $n$-dimensional vectors $\\{\\mathbf{v}_i\\}$, then uses the Gram-Schmidt process to construct an orthonormal set of vectors $\\{\\mathbf{w}_i\\}$, which are output as the columns of a new $n\\times n$ square SymPy  matrix $W$.\n",
    "- Your function should check that the input V is a square matrix of type sympy.Matrix, and raise a ValueError if not.\n",
    "\n",
    "Note: While the algorithm is the same as above you will need to figure out for yourself how to extract columns from a SymPy matrix (the columns will themselves be $n \\times 1$ matrices), how to take the dot product and norm of a SymPy matrix and how to join columns to make a new SymPy matrix. (Hint: The function sympy.Matrix.row_join can be useful.)"
   ]
  },
  {
   "cell_type": "code",
   "execution_count": 36,
   "metadata": {
    "deletable": false,
    "nbgrader": {
     "cell_type": "code",
     "checksum": "7772ba544a4844c6c02ccbd4d3dc8d48",
     "grade": false,
     "grade_id": "cell-a26a550fe2ca1c0c",
     "locked": false,
     "schema_version": 3,
     "solution": true,
     "task": false
    }
   },
   "outputs": [],
   "source": [
    "import sympy\n",
    "def gram_schmidt_sp(V):\n",
    "    if type(V)!=sympy.Matrix:      \n",
    "        raise ValueError(\"The input must be of the type np.ndarray\")\n",
    "    if V.shape[0]!=V.shape[1]:\n",
    "        raise ValueError(\"The input must be a square matrix\")\n",
    "    V=V.transpose()\n",
    "    m=V.shape[0]\n",
    "    n=V.shape[1]\n",
    "    array=V[0,:]\n",
    "    array2=sympy.Matrix()\n",
    "    sum1=0\n",
    "    sum2=0\n",
    "    sum3=0\n",
    "    for i in range(0,m-1):\n",
    "        W1=V[i, :]\n",
    "        s=V[i+1, :]\n",
    "        r=W1*s.T\n",
    "        val=r.det()\n",
    "        t=W1*W1.T\n",
    "        val1=t.det()\n",
    "        W2=s-(((val/val1))*(W1))\n",
    "        array=array.row_insert(i+1,W2)\n",
    "        W1=W2\n",
    "    for k in range(0,m):\n",
    "        x=array[k, :]\n",
    "        if x==sympy.zeros(1,n):\n",
    "            array2=array2.row_insert(k+1, x)\n",
    "        else: \n",
    "            sum3=0\n",
    "            for l in range(0,len(x)):\n",
    "                sum3=sum3+((x[l])**2)\n",
    "                root=sympy.sqrt(sum3)\n",
    "                ans=x/root\n",
    "            array2=array2.row_insert(l+1, ans)\n",
    "    matrix=sympy.Matrix(array2)\n",
    "    fin=matrix.transpose() \n",
    "    return fin"
   ]
  },
  {
   "cell_type": "code",
   "execution_count": 37,
   "metadata": {
    "deletable": false,
    "editable": false,
    "nbgrader": {
     "cell_type": "code",
     "checksum": "c70fc07d6032868f406bab6ff1dc5342",
     "grade": true,
     "grade_id": "cell-a61ea02026825428",
     "locked": true,
     "points": 3,
     "schema_version": 3,
     "solution": false,
     "task": false
    }
   },
   "outputs": [],
   "source": [
    "# 3 marks\n",
    "# Test that it works for a specific matrix V\n",
    "from nose.tools import assert_equal\n",
    "import sympy\n",
    "V = sympy.Matrix([[1,2],[3,4]])\n",
    "W = sympy.Matrix([[sympy.sqrt(10)/10, 3*sympy.sqrt(10)/10], [3*sympy.sqrt(10)/10, -sympy.sqrt(10)/10]])\n",
    "W1 = gram_schmidt_sp(V)\n",
    "assert_equal(W-W1,sympy.zeros(2,2))"
   ]
  },
  {
   "cell_type": "code",
   "execution_count": 38,
   "metadata": {
    "deletable": false,
    "editable": false,
    "nbgrader": {
     "cell_type": "code",
     "checksum": "8b337d0fea94ae687b8f5c2876084261",
     "grade": true,
     "grade_id": "cell-75aa51ccb385b6d8",
     "locked": true,
     "points": 3,
     "schema_version": 3,
     "solution": false,
     "task": false
    }
   },
   "outputs": [],
   "source": [
    "# 3 marks\n",
    "# Check that it works for a case when vectors that are linearly dependent\n",
    "from nose.tools import assert_equal\n",
    "import sympy\n",
    "V = sympy.Matrix([[1,2],[2,4]])\n",
    "W = sympy.Matrix([[sympy.sqrt(5)/5, 0], [2*sympy.sqrt(5)/5, 0]])\n",
    "W1 = gram_schmidt_sp(V)\n",
    "assert_equal(W-W1,sympy.zeros(2,2))"
   ]
  },
  {
   "cell_type": "code",
   "execution_count": 39,
   "metadata": {
    "deletable": false,
    "editable": false,
    "nbgrader": {
     "cell_type": "code",
     "checksum": "1d78f793d3bf39d44b95ba5945743347",
     "grade": true,
     "grade_id": "cell-6b541eaac550c772",
     "locked": true,
     "points": 2,
     "schema_version": 3,
     "solution": false,
     "task": false
    }
   },
   "outputs": [],
   "source": [
    "# 2 marks\n",
    "# Hidden test that it works for another matrix input\n",
    "from nose.tools import assert_equal\n",
    "import sympy"
   ]
  },
  {
   "cell_type": "code",
   "execution_count": 40,
   "metadata": {
    "deletable": false,
    "editable": false,
    "nbgrader": {
     "cell_type": "code",
     "checksum": "6519a488c8be3132c5db323a360e633a",
     "grade": true,
     "grade_id": "cell-51db1d9629d2a80f",
     "locked": true,
     "points": 2,
     "schema_version": 3,
     "solution": false,
     "task": false
    }
   },
   "outputs": [],
   "source": [
    "# 2 marks\n",
    "# Check that errors are raised for wrong input\n",
    "from nose.tools import assert_raises\n",
    "import sympy\n",
    "assert_raises(ValueError,gram_schmidt_sp,1)\n",
    "assert_raises(ValueError,gram_schmidt_sp,sympy.Matrix([[1,2],[3,4],[5,6]]))"
   ]
  },
  {
   "cell_type": "code",
   "execution_count": null,
   "metadata": {},
   "outputs": [],
   "source": []
  }
 ],
 "metadata": {
  "kernelspec": {
   "display_name": "Python 3",
   "language": "python",
   "name": "python3"
  },
  "language_info": {
   "codemirror_mode": {
    "name": "ipython",
    "version": 3
   },
   "file_extension": ".py",
   "mimetype": "text/x-python",
   "name": "python",
   "nbconvert_exporter": "python",
   "pygments_lexer": "ipython3",
   "version": "3.8.5"
  }
 },
 "nbformat": 4,
 "nbformat_minor": 4
}
